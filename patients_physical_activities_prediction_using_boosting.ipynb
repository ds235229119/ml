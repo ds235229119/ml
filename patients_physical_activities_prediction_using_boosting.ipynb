{
  "nbformat": 4,
  "nbformat_minor": 0,
  "metadata": {
    "colab": {
      "provenance": []
    },
    "kernelspec": {
      "name": "python3",
      "display_name": "Python 3"
    },
    "language_info": {
      "name": "python"
    }
  },
  "cells": [
    {
      "cell_type": "code",
      "execution_count": null,
      "metadata": {
        "id": "qPRzY0nsvBO8"
      },
      "outputs": [],
      "source": [
        "#Step 1: Understand Data\n",
        "\n",
        "import pandas as pd\n",
        "\n",
        "# Load the dataset\n",
        "data = pd.read_csv(\"Human Activity Data.csv\")\n",
        "\n",
        "# Print properties\n",
        "print(\"Head:\\n\", data.head())\n",
        "print(\"\\nShape:\", data.shape)\n",
        "print(\"\\nColumns:\", data.columns)\n",
        "print(\"\\nData Types:\\n\", data.dtypes)\n",
        "print(\"\\nInfo:\\n\", data.info())\n",
        "print(\"\\nValue Counts:\\n\", data['Activity'].value_counts())\n"
      ]
    },
    {
      "cell_type": "code",
      "source": [
        "#Step 2: Build a small dataset\n",
        "# Filter the dataset for selected classes\n",
        "small_data = data[data['Activity'].isin(['Laying', 'Sitting', 'Walking'])].groupby('Activity').head(500)\n",
        "\n",
        "# Save the new dataset as CSV\n",
        "small_data.to_csv(\"Small_Human_Activity_Data.csv\", index=False)\n"
      ],
      "metadata": {
        "id": "MpyhwNgVvWvd"
      },
      "execution_count": null,
      "outputs": []
    },
    {
      "cell_type": "code",
      "source": [
        "#Step 3: Build GradientBoostingClassifier\n",
        "from sklearn.model_selection import train_test_split\n",
        "from sklearn.ensemble import GradientBoostingClassifier\n",
        "from sklearn.metrics import accuracy_score, classification_report\n",
        "\n",
        "# Load the small dataset\n",
        "small_data = pd.read_csv(\"Small_Human_Activity_Data.csv\")\n",
        "\n",
        "# Split into training and test sets\n",
        "X_train, X_test, y_train, y_test = train_test_split(\n",
        "    small_data.drop('Activity', axis=1), small_data['Activity'], test_size=0.2, random_state=42\n",
        ")\n",
        "\n",
        "# Create GradientBoosting Classifier\n",
        "gb_classifier = GradientBoostingClassifier()\n",
        "gb_classifier.fit(X_train, y_train)\n",
        "\n",
        "# Predict and print scores\n",
        "y_pred = gb_classifier.predict(X_test)\n",
        "print(\"Accuracy:\", accuracy_score(y_test, y_pred))\n",
        "print(\"Classification Report:\\n\", classification_report(y_test, y_pred))\n",
        "\n"
      ],
      "metadata": {
        "id": "AOMchEOvvivd"
      },
      "execution_count": null,
      "outputs": []
    },
    {
      "cell_type": "code",
      "source": [
        "#Step 4: Find Best no. of trees and Best Learning Rate using Grid Search and Cross Validation\n",
        "from sklearn.model_selection import GridSearchCV\n",
        "\n",
        "# Create GridSearchCV model\n",
        "param_grid = {'n_estimators': [50, 100, 200, 400], 'learning_rate': [0.1, 0.01]}\n",
        "grid_search_gb = GridSearchCV(GradientBoostingClassifier(), param_grid, cv=5)\n",
        "grid_search_gb.fit(X_train, y_train)\n",
        "\n",
        "# Predict and print scores\n",
        "y_pred_grid_gb = grid_search_gb.best_estimator_.predict(X_test)\n",
        "print(\"Accuracy:\", accuracy_score(y_test, y_pred_grid_gb))\n",
        "print(\"Classification Report:\\n\", classification_report(y_test, y_pred_grid_gb))\n",
        "print(\"Best Parameters:\", grid_search_gb.best_params_)\n",
        "\n"
      ],
      "metadata": {
        "id": "ky-YJzzmvt0u"
      },
      "execution_count": null,
      "outputs": []
    },
    {
      "cell_type": "code",
      "source": [
        "\n",
        "#Step 5: Build AdaBoostClassifie\n",
        "from sklearn.ensemble import AdaBoostClassifier\n",
        "from sklearn.tree import DecisionTreeClassifier\n",
        "\n",
        "# Create AdaBoost Classifier\n",
        "ada_classifier = AdaBoostClassifier(base_estimator=DecisionTreeClassifier())\n",
        "param_grid_ada = {'n_estimators': [150, 200, 400], 'learning_rate': [1.0, 0.01, 0.001]}\n",
        "grid_search_ada = GridSearchCV(ada_classifier, param_grid_ada, cv=5)\n",
        "grid_search_ada.fit(X_train, y_train)\n",
        "\n",
        "# Predict and print scores\n",
        "y_pred_ada = grid_search_ada.best_estimator_.predict(X_test)\n",
        "print(\"Accuracy:\", accuracy_score(y_test, y_pred_ada))\n",
        "print(\"Classification Report:\\n\", classification_report(y_test, y_pred_ada))\n",
        "print(\"Best Parameters:\", grid_search_ada.best_params_)\n"
      ],
      "metadata": {
        "id": "d0lWMZwpv5eK"
      },
      "execution_count": null,
      "outputs": []
    },
    {
      "cell_type": "code",
      "source": [
        "#Step 6: Build LogisticRegressionCV classifier\n",
        "from sklearn.linear_model import LogisticRegressionCV\n",
        "\n",
        "# Create Logistic RegressionCV model\n",
        "logreg_cv = LogisticRegressionCV(Cs=[5], cv=4, penalty='l2')\n",
        "logreg_cv.fit(X_train, y_train)\n",
        "\n",
        "# Predict and print scores\n",
        "y_pred_logreg = logreg_cv.predict(X_test)\n",
        "print(\"Classification Report:\\n\", classification_report(y_test, y_pred_logreg))\n"
      ],
      "metadata": {
        "id": "KuNTNkK9wCpb"
      },
      "execution_count": null,
      "outputs": []
    },
    {
      "cell_type": "code",
      "source": [
        "#Step 7: Build VotingClassifier\n",
        "\n",
        "from sklearn.ensemble import VotingClassifier\n",
        "\n",
        "# Create Voting Classifier\n",
        "voting_classifier = VotingClassifier(estimators=[\n",
        "    ('gradient_boost', gb_classifier),\n",
        "    ('logistic_regression', logreg_cv)\n",
        "], voting='soft')\n",
        "\n",
        "# Fit and predict\n",
        "voting_classifier.fit(X_train, y_train)\n",
        "y_pred_voting = voting_classifier.predict(X_test)\n",
        "\n",
        "# Print scores\n",
        "print(\"Classification Report:\\n\", classification_report(y_test, y_pred_voting))\n"
      ],
      "metadata": {
        "id": "aKGxOUhUwPUV"
      },
      "execution_count": null,
      "outputs": []
    },
    {
      "cell_type": "code",
      "source": [
        "Step 8: Interpret your results\n",
        "\n",
        "Analyze the results, consider the best parameters, and observe the performance of different classifiers.\n",
        "Experiment with parameter values, try different models, and observe how they impact results.\n",
        "Remember to iterate and refine your models based on the performance metrics and business requirements.\n",
        "\n",
        "\n",
        "\n",
        "\n",
        "\n"
      ],
      "metadata": {
        "id": "iQ1Rr0tPwZ79"
      },
      "execution_count": null,
      "outputs": []
    }
  ]
}