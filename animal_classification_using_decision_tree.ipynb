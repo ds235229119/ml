{
  "nbformat": 4,
  "nbformat_minor": 0,
  "metadata": {
    "colab": {
      "provenance": []
    },
    "kernelspec": {
      "name": "python3",
      "display_name": "Python 3"
    },
    "language_info": {
      "name": "python"
    }
  },
  "cells": [
    {
      "cell_type": "code",
      "execution_count": 1,
      "metadata": {
        "colab": {
          "base_uri": "https://localhost:8080/",
          "height": 370
        },
        "id": "YpY_fs8mambz",
        "outputId": "b4945dcb-7d32-4cf5-f4a2-46e8bf545b72"
      },
      "outputs": [
        {
          "output_type": "error",
          "ename": "FileNotFoundError",
          "evalue": "[Errno 2] No such file or directory: 'animals.csv'",
          "traceback": [
            "\u001b[0;31m---------------------------------------------------------------------------\u001b[0m",
            "\u001b[0;31mFileNotFoundError\u001b[0m                         Traceback (most recent call last)",
            "\u001b[0;32m<ipython-input-1-75653326a714>\u001b[0m in \u001b[0;36m<cell line: 21>\u001b[0;34m()\u001b[0m\n\u001b[1;32m     19\u001b[0m \u001b[0;34m\u001b[0m\u001b[0m\n\u001b[1;32m     20\u001b[0m \u001b[0;31m# Load dataset\u001b[0m\u001b[0;34m\u001b[0m\u001b[0;34m\u001b[0m\u001b[0m\n\u001b[0;32m---> 21\u001b[0;31m \u001b[0mdf\u001b[0m \u001b[0;34m=\u001b[0m \u001b[0mpd\u001b[0m\u001b[0;34m.\u001b[0m\u001b[0mread_csv\u001b[0m\u001b[0;34m(\u001b[0m\u001b[0;34m'animals.csv'\u001b[0m\u001b[0;34m)\u001b[0m\u001b[0;34m\u001b[0m\u001b[0;34m\u001b[0m\u001b[0m\n\u001b[0m\u001b[1;32m     22\u001b[0m \u001b[0;34m\u001b[0m\u001b[0m\n\u001b[1;32m     23\u001b[0m \u001b[0;31m# Separate features and target variable\u001b[0m\u001b[0;34m\u001b[0m\u001b[0;34m\u001b[0m\u001b[0m\n",
            "\u001b[0;32m/usr/local/lib/python3.10/dist-packages/pandas/util/_decorators.py\u001b[0m in \u001b[0;36mwrapper\u001b[0;34m(*args, **kwargs)\u001b[0m\n\u001b[1;32m    209\u001b[0m                 \u001b[0;32melse\u001b[0m\u001b[0;34m:\u001b[0m\u001b[0;34m\u001b[0m\u001b[0;34m\u001b[0m\u001b[0m\n\u001b[1;32m    210\u001b[0m                     \u001b[0mkwargs\u001b[0m\u001b[0;34m[\u001b[0m\u001b[0mnew_arg_name\u001b[0m\u001b[0;34m]\u001b[0m \u001b[0;34m=\u001b[0m \u001b[0mnew_arg_value\u001b[0m\u001b[0;34m\u001b[0m\u001b[0;34m\u001b[0m\u001b[0m\n\u001b[0;32m--> 211\u001b[0;31m             \u001b[0;32mreturn\u001b[0m \u001b[0mfunc\u001b[0m\u001b[0;34m(\u001b[0m\u001b[0;34m*\u001b[0m\u001b[0margs\u001b[0m\u001b[0;34m,\u001b[0m \u001b[0;34m**\u001b[0m\u001b[0mkwargs\u001b[0m\u001b[0;34m)\u001b[0m\u001b[0;34m\u001b[0m\u001b[0;34m\u001b[0m\u001b[0m\n\u001b[0m\u001b[1;32m    212\u001b[0m \u001b[0;34m\u001b[0m\u001b[0m\n\u001b[1;32m    213\u001b[0m         \u001b[0;32mreturn\u001b[0m \u001b[0mcast\u001b[0m\u001b[0;34m(\u001b[0m\u001b[0mF\u001b[0m\u001b[0;34m,\u001b[0m \u001b[0mwrapper\u001b[0m\u001b[0;34m)\u001b[0m\u001b[0;34m\u001b[0m\u001b[0;34m\u001b[0m\u001b[0m\n",
            "\u001b[0;32m/usr/local/lib/python3.10/dist-packages/pandas/util/_decorators.py\u001b[0m in \u001b[0;36mwrapper\u001b[0;34m(*args, **kwargs)\u001b[0m\n\u001b[1;32m    329\u001b[0m                     \u001b[0mstacklevel\u001b[0m\u001b[0;34m=\u001b[0m\u001b[0mfind_stack_level\u001b[0m\u001b[0;34m(\u001b[0m\u001b[0;34m)\u001b[0m\u001b[0;34m,\u001b[0m\u001b[0;34m\u001b[0m\u001b[0;34m\u001b[0m\u001b[0m\n\u001b[1;32m    330\u001b[0m                 )\n\u001b[0;32m--> 331\u001b[0;31m             \u001b[0;32mreturn\u001b[0m \u001b[0mfunc\u001b[0m\u001b[0;34m(\u001b[0m\u001b[0;34m*\u001b[0m\u001b[0margs\u001b[0m\u001b[0;34m,\u001b[0m \u001b[0;34m**\u001b[0m\u001b[0mkwargs\u001b[0m\u001b[0;34m)\u001b[0m\u001b[0;34m\u001b[0m\u001b[0;34m\u001b[0m\u001b[0m\n\u001b[0m\u001b[1;32m    332\u001b[0m \u001b[0;34m\u001b[0m\u001b[0m\n\u001b[1;32m    333\u001b[0m         \u001b[0;31m# error: \"Callable[[VarArg(Any), KwArg(Any)], Any]\" has no\u001b[0m\u001b[0;34m\u001b[0m\u001b[0;34m\u001b[0m\u001b[0m\n",
            "\u001b[0;32m/usr/local/lib/python3.10/dist-packages/pandas/io/parsers/readers.py\u001b[0m in \u001b[0;36mread_csv\u001b[0;34m(filepath_or_buffer, sep, delimiter, header, names, index_col, usecols, squeeze, prefix, mangle_dupe_cols, dtype, engine, converters, true_values, false_values, skipinitialspace, skiprows, skipfooter, nrows, na_values, keep_default_na, na_filter, verbose, skip_blank_lines, parse_dates, infer_datetime_format, keep_date_col, date_parser, dayfirst, cache_dates, iterator, chunksize, compression, thousands, decimal, lineterminator, quotechar, quoting, doublequote, escapechar, comment, encoding, encoding_errors, dialect, error_bad_lines, warn_bad_lines, on_bad_lines, delim_whitespace, low_memory, memory_map, float_precision, storage_options)\u001b[0m\n\u001b[1;32m    948\u001b[0m     \u001b[0mkwds\u001b[0m\u001b[0;34m.\u001b[0m\u001b[0mupdate\u001b[0m\u001b[0;34m(\u001b[0m\u001b[0mkwds_defaults\u001b[0m\u001b[0;34m)\u001b[0m\u001b[0;34m\u001b[0m\u001b[0;34m\u001b[0m\u001b[0m\n\u001b[1;32m    949\u001b[0m \u001b[0;34m\u001b[0m\u001b[0m\n\u001b[0;32m--> 950\u001b[0;31m     \u001b[0;32mreturn\u001b[0m \u001b[0m_read\u001b[0m\u001b[0;34m(\u001b[0m\u001b[0mfilepath_or_buffer\u001b[0m\u001b[0;34m,\u001b[0m \u001b[0mkwds\u001b[0m\u001b[0;34m)\u001b[0m\u001b[0;34m\u001b[0m\u001b[0;34m\u001b[0m\u001b[0m\n\u001b[0m\u001b[1;32m    951\u001b[0m \u001b[0;34m\u001b[0m\u001b[0m\n\u001b[1;32m    952\u001b[0m \u001b[0;34m\u001b[0m\u001b[0m\n",
            "\u001b[0;32m/usr/local/lib/python3.10/dist-packages/pandas/io/parsers/readers.py\u001b[0m in \u001b[0;36m_read\u001b[0;34m(filepath_or_buffer, kwds)\u001b[0m\n\u001b[1;32m    603\u001b[0m \u001b[0;34m\u001b[0m\u001b[0m\n\u001b[1;32m    604\u001b[0m     \u001b[0;31m# Create the parser.\u001b[0m\u001b[0;34m\u001b[0m\u001b[0;34m\u001b[0m\u001b[0m\n\u001b[0;32m--> 605\u001b[0;31m     \u001b[0mparser\u001b[0m \u001b[0;34m=\u001b[0m \u001b[0mTextFileReader\u001b[0m\u001b[0;34m(\u001b[0m\u001b[0mfilepath_or_buffer\u001b[0m\u001b[0;34m,\u001b[0m \u001b[0;34m**\u001b[0m\u001b[0mkwds\u001b[0m\u001b[0;34m)\u001b[0m\u001b[0;34m\u001b[0m\u001b[0;34m\u001b[0m\u001b[0m\n\u001b[0m\u001b[1;32m    606\u001b[0m \u001b[0;34m\u001b[0m\u001b[0m\n\u001b[1;32m    607\u001b[0m     \u001b[0;32mif\u001b[0m \u001b[0mchunksize\u001b[0m \u001b[0;32mor\u001b[0m \u001b[0miterator\u001b[0m\u001b[0;34m:\u001b[0m\u001b[0;34m\u001b[0m\u001b[0;34m\u001b[0m\u001b[0m\n",
            "\u001b[0;32m/usr/local/lib/python3.10/dist-packages/pandas/io/parsers/readers.py\u001b[0m in \u001b[0;36m__init__\u001b[0;34m(self, f, engine, **kwds)\u001b[0m\n\u001b[1;32m   1440\u001b[0m \u001b[0;34m\u001b[0m\u001b[0m\n\u001b[1;32m   1441\u001b[0m         \u001b[0mself\u001b[0m\u001b[0;34m.\u001b[0m\u001b[0mhandles\u001b[0m\u001b[0;34m:\u001b[0m \u001b[0mIOHandles\u001b[0m \u001b[0;34m|\u001b[0m \u001b[0;32mNone\u001b[0m \u001b[0;34m=\u001b[0m \u001b[0;32mNone\u001b[0m\u001b[0;34m\u001b[0m\u001b[0;34m\u001b[0m\u001b[0m\n\u001b[0;32m-> 1442\u001b[0;31m         \u001b[0mself\u001b[0m\u001b[0;34m.\u001b[0m\u001b[0m_engine\u001b[0m \u001b[0;34m=\u001b[0m \u001b[0mself\u001b[0m\u001b[0;34m.\u001b[0m\u001b[0m_make_engine\u001b[0m\u001b[0;34m(\u001b[0m\u001b[0mf\u001b[0m\u001b[0;34m,\u001b[0m \u001b[0mself\u001b[0m\u001b[0;34m.\u001b[0m\u001b[0mengine\u001b[0m\u001b[0;34m)\u001b[0m\u001b[0;34m\u001b[0m\u001b[0;34m\u001b[0m\u001b[0m\n\u001b[0m\u001b[1;32m   1443\u001b[0m \u001b[0;34m\u001b[0m\u001b[0m\n\u001b[1;32m   1444\u001b[0m     \u001b[0;32mdef\u001b[0m \u001b[0mclose\u001b[0m\u001b[0;34m(\u001b[0m\u001b[0mself\u001b[0m\u001b[0;34m)\u001b[0m \u001b[0;34m->\u001b[0m \u001b[0;32mNone\u001b[0m\u001b[0;34m:\u001b[0m\u001b[0;34m\u001b[0m\u001b[0;34m\u001b[0m\u001b[0m\n",
            "\u001b[0;32m/usr/local/lib/python3.10/dist-packages/pandas/io/parsers/readers.py\u001b[0m in \u001b[0;36m_make_engine\u001b[0;34m(self, f, engine)\u001b[0m\n\u001b[1;32m   1733\u001b[0m                 \u001b[0;32mif\u001b[0m \u001b[0;34m\"b\"\u001b[0m \u001b[0;32mnot\u001b[0m \u001b[0;32min\u001b[0m \u001b[0mmode\u001b[0m\u001b[0;34m:\u001b[0m\u001b[0;34m\u001b[0m\u001b[0;34m\u001b[0m\u001b[0m\n\u001b[1;32m   1734\u001b[0m                     \u001b[0mmode\u001b[0m \u001b[0;34m+=\u001b[0m \u001b[0;34m\"b\"\u001b[0m\u001b[0;34m\u001b[0m\u001b[0;34m\u001b[0m\u001b[0m\n\u001b[0;32m-> 1735\u001b[0;31m             self.handles = get_handle(\n\u001b[0m\u001b[1;32m   1736\u001b[0m                 \u001b[0mf\u001b[0m\u001b[0;34m,\u001b[0m\u001b[0;34m\u001b[0m\u001b[0;34m\u001b[0m\u001b[0m\n\u001b[1;32m   1737\u001b[0m                 \u001b[0mmode\u001b[0m\u001b[0;34m,\u001b[0m\u001b[0;34m\u001b[0m\u001b[0;34m\u001b[0m\u001b[0m\n",
            "\u001b[0;32m/usr/local/lib/python3.10/dist-packages/pandas/io/common.py\u001b[0m in \u001b[0;36mget_handle\u001b[0;34m(path_or_buf, mode, encoding, compression, memory_map, is_text, errors, storage_options)\u001b[0m\n\u001b[1;32m    854\u001b[0m         \u001b[0;32mif\u001b[0m \u001b[0mioargs\u001b[0m\u001b[0;34m.\u001b[0m\u001b[0mencoding\u001b[0m \u001b[0;32mand\u001b[0m \u001b[0;34m\"b\"\u001b[0m \u001b[0;32mnot\u001b[0m \u001b[0;32min\u001b[0m \u001b[0mioargs\u001b[0m\u001b[0;34m.\u001b[0m\u001b[0mmode\u001b[0m\u001b[0;34m:\u001b[0m\u001b[0;34m\u001b[0m\u001b[0;34m\u001b[0m\u001b[0m\n\u001b[1;32m    855\u001b[0m             \u001b[0;31m# Encoding\u001b[0m\u001b[0;34m\u001b[0m\u001b[0;34m\u001b[0m\u001b[0m\n\u001b[0;32m--> 856\u001b[0;31m             handle = open(\n\u001b[0m\u001b[1;32m    857\u001b[0m                 \u001b[0mhandle\u001b[0m\u001b[0;34m,\u001b[0m\u001b[0;34m\u001b[0m\u001b[0;34m\u001b[0m\u001b[0m\n\u001b[1;32m    858\u001b[0m                 \u001b[0mioargs\u001b[0m\u001b[0;34m.\u001b[0m\u001b[0mmode\u001b[0m\u001b[0;34m,\u001b[0m\u001b[0;34m\u001b[0m\u001b[0;34m\u001b[0m\u001b[0m\n",
            "\u001b[0;31mFileNotFoundError\u001b[0m: [Errno 2] No such file or directory: 'animals.csv'"
          ]
        }
      ],
      "source": [
        "import pandas as pd\n",
        "\n",
        "data = {\n",
        "    'breathe': [True, True, True, True, True, True, True, False, True, False, True, True, True, True, True, True, True, True, True, True],\n",
        "    'legs': [True, True, True, True, True, True, True, False, False, False, False, True, False, True, False, True, True, True, False, False],\n",
        "    'tooth': [True, True, True, True, True, True, True, False, True, False, True, True, True, True, True, False, False, True, False, True],\n",
        "    'hair': [True, True, True, True, True, True, True, False, False, False, True, True, True, True, True, False, False, True, False, False],\n",
        "    'species': ['Mammal', 'Mammal', 'Reptile', 'Mammal', 'Mammal', 'Mammal', 'Reptile', 'Mammal', 'Reptile', 'Reptile', 'Mammal', 'Reptile', 'Mammal', 'Reptile', 'Reptile', 'Mammal', 'Reptile', 'Mammal', 'Reptile', 'Reptile']\n",
        "}\n",
        "\n",
        "df = pd.DataFrame(data)\n",
        "df.to_csv('animal_dataset.csv', index=False)\n",
        "\n",
        "\n",
        "from sklearn.tree import DecisionTreeClassifier, export_text, export_graphviz\n",
        "from sklearn.model_selection import train_test_split\n",
        "from sklearn.metrics import accuracy_score, classification_report\n",
        "import graphviz\n",
        "\n",
        "# Load dataset\n",
        "df = pd.read_csv('animals.csv')\n",
        "\n",
        "# Separate features and target variable\n",
        "X = df.iloc[:, :-1]\n",
        "y = df['species']\n",
        "\n",
        "# Create DT model using entropy criterion\n",
        "dt_model = DecisionTreeClassifier(criterion='entropy')\n",
        "X_train, X_test, y_train, y_test = train_test_split(X, y, test_size=0.2, random_state=42)\n",
        "\n",
        "# Train the model\n",
        "dt_model.fit(X_train, y_train)\n",
        "\n",
        "# Perform testing\n",
        "y_pred = dt_model.predict(X_test)\n",
        "\n",
        "# Print accuracy and classification report\n",
        "print(f'Accuracy: {accuracy_score(y_test, y_pred)}')\n",
        "print(classification_report(y_test, y_pred))\n",
        "\n",
        "# Visualize DT model using graphviz\n",
        "dot_data = export_graphviz(dt_model, out_file=None, feature_names=X.columns, class_names=df['species'].unique(), filled=True, rounded=True, special_characters=True)\n",
        "graph = graphviz.Source(dot_data)\n",
        "graph.render('decision_tree_entropy', format='png', cleanup=True)\n",
        "#pip install pandas scikit-learn graphviz\n",
        "\n",
        "\n"
      ]
    },
    {
      "cell_type": "code",
      "source": [
        "#Step 4: Perform Prediction with ID3 Model\n",
        "# Assuming you have the test set as a DataFrame named 'test_set'\n",
        "test_set = pd.DataFrame({\n",
        "    'breathe': [True, False, True],\n",
        "    'legs': [True, False, True],\n",
        "    'tooth': [True, False, True],\n",
        "    'hair': [True, False, True],\n",
        "})\n",
        "\n",
        "# Use ID3 DT model for prediction\n",
        "id3_predictions = dt_model.predict(test_set)\n",
        "print(\"ID3 Predictions:\", id3_predictions)\n"
      ],
      "metadata": {
        "id": "eDcMaw7qbKAU"
      },
      "execution_count": null,
      "outputs": []
    },
    {
      "cell_type": "code",
      "source": [
        "#Step 5: Build CART Decision Tree Model and Predict\n",
        "\n",
        "# Create CART DT model using Gini criterion\n",
        "cart_model = DecisionTreeClassifier(criterion='gini')\n",
        "\n",
        "# Train the model with full training data\n",
        "cart_model.fit(X, y)\n",
        "\n",
        "# Predict samples for the test set\n",
        "cart_predictions = cart_model.predict(test_set)\n",
        "print(\"CART Predictions:\", cart_predictions)\n",
        "\n",
        "# Visualize CART DT using graphviz\n",
        "dot_data_cart = export_graphviz(cart_model, out_file=None, feature_names=X.columns, class_names=df['species'].unique(), filled=True, rounded=True, special_characters=True)\n",
        "graph_cart = graphviz.Source(dot_data_cart)\n",
        "graph_cart.render('decision_tree_cart', format='png', cleanup=True)\n"
      ],
      "metadata": {
        "id": "MSj6pafDbUfv"
      },
      "execution_count": null,
      "outputs": []
    },
    {
      "cell_type": "code",
      "source": [
        "#Step 6: Build DT with Zoo Dataset\n",
        "\n",
        "# Download Zoo dataset\n",
        "zoo_data_url = \"https://archive.ics.uci.edu/ml/datasets/Zoo\"\n",
        "# Load the dataset (replace 'path_to_zoo_dataset.csv' with the actual path)\n",
        "zoo_df = pd.read_csv('path_to_zoo_dataset.csv')\n",
        "\n",
        "# Separate features and target variable\n",
        "X_zoo = zoo_df.iloc[:, 1:-1]\n",
        "y_zoo = zoo_df['class_type']\n",
        "\n",
        "# Create ID3 Decision Tree model\n",
        "dt_model_zoo = DecisionTreeClassifier(criterion='entropy')\n",
        "dt_model_zoo.fit(X_zoo, y_zoo)\n",
        "\n",
        "# Create CART Decision Tree model\n",
        "cart_model_zoo = DecisionTreeClassifier(criterion='gini')\n",
        "cart_model_zoo.fit(X_zoo, y_zoo)\n",
        "\n",
        "# Print accuracy and classification report for ID3\n",
        "y_pred_zoo_dt = dt_model_zoo.predict(X_zoo)\n",
        "print(\"ID3 Accuracy:\", accuracy_score(y_zoo, y_pred_zoo_dt))\n",
        "print(classification_report(y_zoo, y_pred_zoo_dt))\n",
        "\n",
        "# Print accuracy and classification report for CART\n",
        "y_pred_zoo_cart = cart_model_zoo.predict(X_zoo)\n",
        "print(\"CART Accuracy:\", accuracy_score(y_zoo, y_pred_zoo_cart))\n",
        "print(classification_report(y_zoo, y_pred_zoo_cart))\n",
        "\n",
        "# Visualize ID3 DT using graphviz\n",
        "dot_data_zoo_dt = export_graphviz(dt_model_zoo, out_file=None, feature_names=X_zoo.columns, class_names=zoo_df['class_type'].unique(), filled=True, rounded=True, special_characters=True)\n",
        "graph_zoo_dt = graphviz.Source(dot_data_zoo_dt)\n",
        "graph_zoo_dt.render('decision_tree_zoo_dt', format='png', cleanup=True)\n",
        "\n",
        "# Visualize CART DT using graphviz\n",
        "dot_data_zoo_cart = export_graphviz(cart_model_zoo, out_file=None, feature_names=X_zoo.columns, class_names=zoo_df['class_type'].unique(), filled=True, rounded=True, special_characters=True)\n",
        "graph_zoo_cart = graphviz.Source(dot_data_zoo_cart)\n",
        "graph_zoo_cart.render('decision_tree_zoo_cart', format='png', cleanup=True)\n",
        "\n"
      ],
      "metadata": {
        "id": "pFjpMadSbdIM"
      },
      "execution_count": null,
      "outputs": []
    },
    {
      "cell_type": "code",
      "source": [
        "import pandas as pd\n",
        "from sklearn.model_selection import train_test_split\n",
        "from sklearn.tree import DecisionTreeClassifier\n",
        "from sklearn.metrics import accuracy_score,classification_report\n",
        "\n",
        "df=pd.read_csv('animals.csv')\n",
        "df.shape\n",
        "df.columns\n",
        "df.info()\n",
        "\n"
      ],
      "metadata": {
        "id": "fgwlNDnld1SQ"
      },
      "execution_count": null,
      "outputs": []
    },
    {
      "cell_type": "code",
      "source": [
        "x=df[['toothed','hair','breathes','legs']]\n",
        "y=df.species\n",
        "x_train,x_test,y_train,y_test=train_test_split(x,y,test_size=0.25,random_state=42)\n",
        "\n",
        "dt=DecisionTreeClassifier(criterion='entropy')\n",
        "dt.fit(x_train,y_train)\n",
        "y_pred=dt.predict(x_test)\n"
      ],
      "metadata": {
        "id": "Wb6x5FWjfWny"
      },
      "execution_count": null,
      "outputs": []
    },
    {
      "cell_type": "code",
      "source": [
        "\n",
        "acc=accuracy_score(y_test,y_pred)\n",
        "print(acc)\n",
        "\n",
        "clf_report=classification_report(y_test,y_pred)\n",
        "print(clf_report)\n",
        "\n"
      ],
      "metadata": {
        "id": "vC4nKaOUfNDh"
      },
      "execution_count": null,
      "outputs": []
    },
    {
      "cell_type": "code",
      "source": [
        "#visualize\n",
        "\n",
        "import matplotlib.pyplot as plt\n",
        "from sklearn import tree\n",
        "\n",
        "\n",
        "fn=['toothed','hair','breathes','legs']\n",
        "cn=['mammal','Reptile']\n",
        "\n",
        "fig, axes=plt.subplots(nrows=1,ncols=1,figsize=(1,1),dpi=300)\n",
        "tree.plot_tree(dt,feature_names=fn,class_names=cn,filled=True);\n",
        "fig.savefig('imgname.png')\n"
      ],
      "metadata": {
        "id": "WBkYBve6gPhH"
      },
      "execution_count": null,
      "outputs": []
    },
    {
      "cell_type": "code",
      "source": [
        "#step3\n",
        "\n"
      ],
      "metadata": {
        "id": "LFB50bJTj9Db"
      },
      "execution_count": null,
      "outputs": []
    },
    {
      "cell_type": "code",
      "source": [
        "df1=pd.read_csv(\"animals_test.csv\")\n",
        "df1 = df1[['toothed', 'hair', 'breathes', 'legs']]\n",
        "y_pred_test=dt.predict(df1)\n",
        "y_pred_test\n",
        "dt_cart= DecisionTreeClassifier(criterion =\"gini\")\n",
        "dt_cart.fit(X,y)\n",
        "y_pred_ctest=dt_cart.predict(df1)\n",
        "y_pred_ctest"
      ],
      "metadata": {
        "id": "QLfaY9IDmGCJ"
      },
      "execution_count": null,
      "outputs": []
    },
    {
      "cell_type": "code",
      "source": [
        "df1=pd.read_csv(\"animals_test.csv\")\n",
        "df1 = df1[['toothed', 'hair', 'breathes', 'legs']]\n",
        "\n",
        "y_pred_test=dt.predict(df1)\n",
        "y_pred_test\n",
        "dt_cart  =DecisionTreeClassifier(criterion =\"gini\")\n",
        "dt_cart.fit(X,y)\n",
        "y_pred_ctest=dt_cart.predict(df1)\n",
        "y_pred_ctest\n",
        "\n",
        "\n",
        "\n",
        "fn=['toothed', 'hair', 'breathes', 'legs']\n",
        "cn=['Mammal', 'Reptile']\n",
        "fig, axes=  plt.subplots(nrows = 1, ncols = 1, figsize =(1,1), dpi=300)\n",
        "tree=plot_tree(dt_cart,feature_names = fn,class_names=cn,filled True);\n",
        "fig.savefig('image1.png')\n",
        "zoo = pd.read_csv('zoo.data')\n",
        "zoo.head()\n",
        "zoo.shape\n",
        "X=zoo.drop(['aardvark', '1.7'], axis=1)\n",
        "y = zoo[['1.7']])\n",
        "\n",
        "x_train, x_test, y1_train, yl_test = train_test_split(X, y, test_size=0.25),random_state=42)\n",
        "zoo_entropy=DecisionTreeClassifier (criterion =\"entropy\")"
      ],
      "metadata": {
        "id": "LCdq0l5emmZf"
      },
      "execution_count": null,
      "outputs": []
    },
    {
      "cell_type": "code",
      "source": [
        "\n",
        "zoo_entropy.fit(x_train,y1_train)\n",
        "y1_pred zoo_entropy.predict(x_test)\n",
        "train_pred=zoo_entropy.predict(x_train)\n",
        "\n",
        "train_pred\n",
        "test_pred =zoo_entropy.predict(x_test)\n",
        "\n",
        "test_pred\n",
        "print(\"Train Accuracy:\", accuracy_score(y1_train, zoo_entropy.predict(x_test)\n",
        "\n",
        "print(\"Test Accuracy:\", accuracy_score(y1_test, zoo_entropy.predict(x_test)\n",
        "acc = accuracy_score(y1_test, y1_pred)\n",
        "\n",
        "print(\"Accuracy score\", acc)"
      ],
      "metadata": {
        "id": "YPXKPShjmsSj"
      },
      "execution_count": null,
      "outputs": []
    }
  ]
}