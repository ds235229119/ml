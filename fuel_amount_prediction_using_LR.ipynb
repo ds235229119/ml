{
  "cells": [
    {
      "cell_type": "code",
      "execution_count": null,
      "metadata": {
        "id": "3mn4glZRaqWo",
        "outputId": "3ae65cb3-e124-4bf9-a688-db8812cf7f85"
      },
      "outputs": [
        {
          "data": {
            "image/png": "[encoded data removed]",
            "text/plain": [
              "<Figure size 432x288 with 1 Axes>"
            ]
          },
          "metadata": {
            "needs_background": "light"
          },
          "output_type": "display_data"
        },
        {
          "name": "stdout",
          "output_type": "stream",
          "text": [
            "<class 'pandas.core.frame.DataFrame'>\n",
            "<class 'pandas.core.series.Series'>\n",
            "(15, 1) (4, 1) (15,) (4,)\n",
            "Predicted cost for 800 km: [6905.64571567]\n",
            "MSE: 46181.36710639155\n",
            "R-squared: -0.6180990161577022\n",
            "Coefficients: [7.63373063]\n",
            "Intercept: 798.6612098962887\n",
            "MSE (scaled): 46181.36710639172\n"
          ]
        },
        {
          "data": {
            "image/png": "[encoded data removed]",
            "text/plain": [
              "<Figure size 432x288 with 1 Axes>"
            ]
          },
          "metadata": {
            "needs_background": "light"
          },
          "output_type": "display_data"
        },
        {
          "name": "stdout",
          "output_type": "stream",
          "text": [
            "MSE (MinMax scaled): 46181.3671063917\n",
            "MSE (KNN Regressor): 21241.836200000045\n",
            "MSE (SGD Regressor): 3.7316635429916255e+28\n",
            "Model with lowest MSE: KNN Regressor\n"
          ]
        }
      ],
      "source": [
        "import pandas as pd\n",
        "import matplotlib.pyplot as plt\n",
        "from sklearn.model_selection import train_test_split\n",
        "from sklearn.linear_model import LinearRegression\n",
        "from sklearn.preprocessing import StandardScaler, MinMaxScaler\n",
        "from sklearn.metrics import mean_squared_error, r2_score\n",
        "from sklearn.neighbors import KNeighborsRegressor\n",
        "from sklearn.linear_model import SGDRegressor\n",
        "\n",
        "# Step 2: Import Dataset\n",
        "fuel_data = pd.read_csv('fuel_data.csv')....\n",
        "# Step 3: Preprocessing\n",
        "missing_values = fuel_data.isnull().sum()\n",
        "\n",
        "# Step 4: Visualize Relationship\n",
        "plt.scatter(fuel_data['drivenKM'], fuel_data['fuelAmount'])\n",
        "plt.xlabel('Driven KM')\n",
        "plt.ylabel('Fuel Amount')\n",
        "plt.title('Relationship between Driven KM and Fuel Amount')\n",
        "plt.show()\n",
        "\n",
        "# Step 5: Prepare X and y\n",
        "X = fuel_data[['drivenKM']]\n",
        "y = fuel_data['fuelAmount']\n",
        "\n",
        "# Step 6: Examine X and y\n",
        "print(type(X))\n",
        "print(type(y))\n",
        "\n",
        "# Step 7: Split Dataset\n",
        "X_train, X_test, y_train, y_test = train_test_split(X, y, test_size=0.2, random_state=42)\n",
        "print(X_train.shape, X_test.shape, y_train.shape, y_test.shape)\n",
        "\n",
        "# Part 1: Linear Regression Baseline Model\n",
        "\n",
        "# Step 8: Build Model\n",
        "model = LinearRegression()\n",
        "model.fit(X_train, y_train)\n",
        "\n",
        "# Step 9: Predict for 800 km\n",
        "predicted_cost = model.predict([[800]])\n",
        "print(\"Predicted cost for 800 km:\", predicted_cost)\n",
        "\n",
        "# Step 10: Predict on Entire Dataset\n",
        "y_pred = model.predict(X_test)\n",
        "\n",
        "# Step 11: Print Errors and Model Parameters\n",
        "mse = mean_squared_error(y_test, y_pred)\n",
        "r2 = r2_score(y_test, y_pred)\n",
        "print(\"MSE:\", mse)\n",
        "print(\"R-squared:\", r2)\n",
        "print(\"Coefficients:\", model.coef_)\n",
        "print(\"Intercept:\", model.intercept_)\n",
        "\n",
        "# Part 2: Linear Regression with Scaling using StandardScaler\n",
        "\n",
        "# Step 12: Normalize X_train and X_test Values\n",
        "scaler = StandardScaler()\n",
        "X_train_scaled = scaler.fit_transform(X_train)\n",
        "X_test_scaled = scaler.transform(X_test)\n",
        "\n",
        "# Step 13: Build LR Model on Scaled Data\n",
        "model_scaled = LinearRegression()\n",
        "model_scaled.fit(X_train_scaled, y_train)\n",
        "y_pred_scaled = model_scaled.predict(X_test_scaled)\n",
        "\n",
        "# Step 14: Print Errors\n",
        "mse_scaled = mean_squared_error(y_test, y_pred_scaled)\n",
        "print(\"MSE (scaled):\", mse_scaled)\n",
        "\n",
        "# Step 15: Plot Scatter Plot\n",
        "plt.scatter(y_test, y_pred_scaled)\n",
        "plt.xlabel('Actual Fuel Amount')\n",
        "plt.ylabel('Predicted Fuel Amount (Scaled)')\n",
        "plt.title('Actual vs Predicted Fuel Amount (Scaled)')\n",
        "plt.show()\n",
        "\n",
        "# Part 3: Comparison with other Models\n",
        "\n",
        "# Step 16: Repeat with MinMaxScaler\n",
        "scaler_minmax = MinMaxScaler()\n",
        "X_train_minmax = scaler_minmax.fit_transform(X_train)\n",
        "X_test_minmax = scaler_minmax.transform(X_test)\n",
        "\n",
        "model_minmax = LinearRegression()\n",
        "model_minmax.fit(X_train_minmax, y_train)\n",
        "y_pred_minmax = model_minmax.predict(X_test_minmax)\n",
        "\n",
        "mse_minmax = mean_squared_error(y_test, y_pred_minmax)\n",
        "print(\"MSE (MinMax scaled):\", mse_minmax)\n",
        "\n",
        "# Step 17: Compare KNN Regressor\n",
        "knn_model = KNeighborsRegressor()\n",
        "knn_model.fit(X_train, y_train)\n",
        "y_pred_knn = knn_model.predict(X_test)\n",
        "\n",
        "mse_knn = mean_squared_error(y_test, y_pred_knn)\n",
        "print(\"MSE (KNN Regressor):\", mse_knn)\n",
        "\n",
        "# Step 18: Compare SGD Regressor\n",
        "sgd_model = SGDRegressor(max_iter=1000, tol=1e-3)  # Set max_iter and tol here\n",
        "sgd_model.fit(X_train, y_train)\n",
        "y_pred_sgd = sgd_model.predict(X_test)\n",
        "\n",
        "mse_sgd = mean_squared_error(y_test, y_pred_sgd)\n",
        "print(\"MSE (SGD Regressor):\", mse_sgd)\n",
        "\n",
        "# Step 19: Select best model\n",
        "mse_values = {\n",
        "    'Linear Regression': mse,\n",
        "    'Linear Regression (Scaled)': mse_scaled,\n",
        "    'Linear Regression (MinMax Scaled)': mse_minmax,\n",
        "    'KNN Regressor': mse_knn,\n",
        "    'SGD Regressor': mse_sgd\n",
        "}\n",
        "\n",
        "best_model = min(mse_values, key=mse_values.get)\n",
        "print(\"Model with lowest MSE:\", best_model)\n",
        "\n"
      ]
    },
    {
      "cell_type": "code",
      "execution_count": null,
      "metadata": {
        "id": "usIyHAP-aqWs"
      },
      "outputs": [],
      "source": []
    }
  ],
  "metadata": {
    "kernelspec": {
      "display_name": "Python 3",
      "language": "python",
      "name": "python3"
    },
    "language_info": {
      "codemirror_mode": {
        "name": "ipython",
        "version": 3
      },
      "file_extension": ".py",
      "mimetype": "text/x-python",
      "name": "python",
      "nbconvert_exporter": "python",
      "pygments_lexer": "ipython3",
      "version": "3.7.1"
    },
    "colab": {
      "provenance": []
    }
  },
  "nbformat": 4,
  "nbformat_minor": 0
}