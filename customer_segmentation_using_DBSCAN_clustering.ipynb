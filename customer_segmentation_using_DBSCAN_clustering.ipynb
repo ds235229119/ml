{
  "nbformat": 4,
  "nbformat_minor": 0,
  "metadata": {
    "colab": {
      "provenance": []
    },
    "kernelspec": {
      "name": "python3",
      "display_name": "Python 3"
    },
    "language_info": {
      "name": "python"
    }
  },
  "cells": [
    {
      "cell_type": "code",
      "execution_count": null,
      "metadata": {
        "id": "YsIvf2UmsaUh"
      },
      "outputs": [],
      "source": [
        "# Step 1: Import Necessary Libraries\n",
        "import pandas as pd\n",
        "import numpy as np\n",
        "import matplotlib.pyplot as plt\n",
        "from sklearn.cluster import DBSCAN\n",
        "from sklearn.preprocessing import StandardScaler\n",
        "\n",
        "# Step 2: Load and Explore the Dataset\n",
        "# Assuming the dataset is saved as \"Mall Customers.csv\"\n",
        "mall_data = pd.read_csv(\"Mall Customers.csv\")\n",
        "\n",
        "# Display the first few rows of the dataset\n",
        "print(mall_data.head())\n",
        "\n",
        "# Step 3: Preprocess the Data\n",
        "# Select relevant features and standardize them\n",
        "X = mall_data[['Annual Income (k$)', 'Spending Score (1-100)']]\n",
        "scaler = StandardScaler()\n",
        "X_scaled = scaler.fit_transform(X)\n",
        "\n",
        "# Step 4: Apply DBSCAN\n",
        "# Choose epsilon (eps) and minimum samples (min_samples)\n",
        "eps = 0.5\n",
        "min_samples = 5\n",
        "dbscan = DBSCAN(eps=eps, min_samples=min_samples)\n",
        "mall_labels = dbscan.fit_predict(X_scaled)\n",
        "\n",
        "# Step 5: Visualize the Clusters\n",
        "# Plot the clusters using matplotlib.pyplot\n",
        "plt.scatter(X['Annual Income (k$)'], X['Spending Score (1-100)'], c=mall_labels, cmap='viridis', marker='o', edgecolors='k')\n",
        "plt.title('DBSCAN Clustering Mall Customers')\n",
        "plt.xlabel('Annual Income (k$)')\n",
        "plt.ylabel('Spending Score (1-100)')\n",
        "plt.show()\n",
        "\n",
        "# Step 6: Explore the Result\n",
        "# Calculate the number of clusters formed by DBSCAN\n",
        "num_clusters = len(set(mall_labels)) - (1 if -1 in mall_labels else 0)\n",
        "print(f\"Number of clusters: {num_clusters}\")\n"
      ]
    }
  ]
}